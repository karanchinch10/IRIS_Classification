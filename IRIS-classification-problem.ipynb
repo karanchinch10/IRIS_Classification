{
 "cells": [
  {
   "cell_type": "markdown",
   "id": "743a47b5",
   "metadata": {
    "papermill": {
     "duration": 0.017626,
     "end_time": "2022-06-13T16:09:39.697510",
     "exception": false,
     "start_time": "2022-06-13T16:09:39.679884",
     "status": "completed"
    },
    "tags": []
   },
   "source": [
    "## EDA for IRIS Dataset"
   ]
  },
  {
   "cell_type": "markdown",
   "id": "6c99aa4d",
   "metadata": {
    "papermill": {
     "duration": 0.015576,
     "end_time": "2022-06-13T16:09:39.730900",
     "exception": false,
     "start_time": "2022-06-13T16:09:39.715324",
     "status": "completed"
    },
    "tags": []
   },
   "source": [
    "### Please Upvote if you like my work "
   ]
  },
  {
   "cell_type": "markdown",
   "id": "9c55e23a",
   "metadata": {
    "papermill": {
     "duration": 0.015644,
     "end_time": "2022-06-13T16:09:39.762172",
     "exception": false,
     "start_time": "2022-06-13T16:09:39.746528",
     "status": "completed"
    },
    "tags": []
   },
   "source": [
    "\n",
    "### In this Notebook we will sovle classification problem of IRIS dataset\n",
    "#### Dataset has 5 Columns\n",
    "* Sepal length \n",
    "* Sepal Width\n",
    "* Petal length\n",
    "* Petal Width\n",
    "* Species has 3 categories(setosa,virginica,versicolor)"
   ]
  },
  {
   "cell_type": "markdown",
   "id": "f8de94c1",
   "metadata": {
    "papermill": {
     "duration": 0.015269,
     "end_time": "2022-06-13T16:09:39.792990",
     "exception": false,
     "start_time": "2022-06-13T16:09:39.777721",
     "status": "completed"
    },
    "tags": []
   },
   "source": [
    "## EDA "
   ]
  },
  {
   "cell_type": "markdown",
   "id": "31af0f04",
   "metadata": {
    "papermill": {
     "duration": 0.015671,
     "end_time": "2022-06-13T16:09:39.825293",
     "exception": false,
     "start_time": "2022-06-13T16:09:39.809622",
     "status": "completed"
    },
    "tags": []
   },
   "source": [
    "### Import Libraray"
   ]
  },
  {
   "cell_type": "code",
   "execution_count": 1,
   "id": "a2bc3d5e",
   "metadata": {
    "execution": {
     "iopub.execute_input": "2022-06-13T16:09:39.859457Z",
     "iopub.status.busy": "2022-06-13T16:09:39.858791Z",
     "iopub.status.idle": "2022-06-13T16:09:40.810984Z",
     "shell.execute_reply": "2022-06-13T16:09:40.809952Z"
    },
    "papermill": {
     "duration": 0.972497,
     "end_time": "2022-06-13T16:09:40.813629",
     "exception": false,
     "start_time": "2022-06-13T16:09:39.841132",
     "status": "completed"
    },
    "tags": []
   },
   "outputs": [],
   "source": [
    "import numpy as np\n",
    "import matplotlib.pyplot as plt\n",
    "import pandas as pd\n",
    "import seaborn as sns\n",
    "import warnings\n",
    "warnings.filterwarnings('ignore')"
   ]
  },
  {
   "cell_type": "markdown",
   "id": "d98df55d",
   "metadata": {
    "papermill": {
     "duration": 0.015339,
     "end_time": "2022-06-13T16:09:40.845272",
     "exception": false,
     "start_time": "2022-06-13T16:09:40.829933",
     "status": "completed"
    },
    "tags": []
   },
   "source": [
    "### Load Dataset"
   ]
  },
  {
   "cell_type": "code",
   "execution_count": 2,
   "id": "6b8ac037",
   "metadata": {
    "execution": {
     "iopub.execute_input": "2022-06-13T16:09:40.878739Z",
     "iopub.status.busy": "2022-06-13T16:09:40.878280Z",
     "iopub.status.idle": "2022-06-13T16:09:40.970478Z",
     "shell.execute_reply": "2022-06-13T16:09:40.969498Z"
    },
    "papermill": {
     "duration": 0.111196,
     "end_time": "2022-06-13T16:09:40.972464",
     "exception": false,
     "start_time": "2022-06-13T16:09:40.861268",
     "status": "completed"
    },
    "tags": []
   },
   "outputs": [
    {
     "data": {
      "text/html": [
       "<div>\n",
       "<style scoped>\n",
       "    .dataframe tbody tr th:only-of-type {\n",
       "        vertical-align: middle;\n",
       "    }\n",
       "\n",
       "    .dataframe tbody tr th {\n",
       "        vertical-align: top;\n",
       "    }\n",
       "\n",
       "    .dataframe thead th {\n",
       "        text-align: right;\n",
       "    }\n",
       "</style>\n",
       "<table border=\"1\" class=\"dataframe\">\n",
       "  <thead>\n",
       "    <tr style=\"text-align: right;\">\n",
       "      <th></th>\n",
       "      <th>Id</th>\n",
       "      <th>SepalLengthCm</th>\n",
       "      <th>SepalWidthCm</th>\n",
       "      <th>PetalLengthCm</th>\n",
       "      <th>PetalWidthCm</th>\n",
       "      <th>Species</th>\n",
       "    </tr>\n",
       "  </thead>\n",
       "  <tbody>\n",
       "    <tr>\n",
       "      <th>0</th>\n",
       "      <td>1</td>\n",
       "      <td>5.1</td>\n",
       "      <td>3.5</td>\n",
       "      <td>1.4</td>\n",
       "      <td>0.2</td>\n",
       "      <td>Iris-setosa</td>\n",
       "    </tr>\n",
       "    <tr>\n",
       "      <th>1</th>\n",
       "      <td>2</td>\n",
       "      <td>4.9</td>\n",
       "      <td>3.0</td>\n",
       "      <td>1.4</td>\n",
       "      <td>0.2</td>\n",
       "      <td>Iris-setosa</td>\n",
       "    </tr>\n",
       "    <tr>\n",
       "      <th>2</th>\n",
       "      <td>3</td>\n",
       "      <td>4.7</td>\n",
       "      <td>3.2</td>\n",
       "      <td>1.3</td>\n",
       "      <td>0.2</td>\n",
       "      <td>Iris-setosa</td>\n",
       "    </tr>\n",
       "    <tr>\n",
       "      <th>3</th>\n",
       "      <td>4</td>\n",
       "      <td>4.6</td>\n",
       "      <td>3.1</td>\n",
       "      <td>1.5</td>\n",
       "      <td>0.2</td>\n",
       "      <td>Iris-setosa</td>\n",
       "    </tr>\n",
       "    <tr>\n",
       "      <th>4</th>\n",
       "      <td>5</td>\n",
       "      <td>5.0</td>\n",
       "      <td>3.6</td>\n",
       "      <td>1.4</td>\n",
       "      <td>0.2</td>\n",
       "      <td>Iris-setosa</td>\n",
       "    </tr>\n",
       "    <tr>\n",
       "      <th>...</th>\n",
       "      <td>...</td>\n",
       "      <td>...</td>\n",
       "      <td>...</td>\n",
       "      <td>...</td>\n",
       "      <td>...</td>\n",
       "      <td>...</td>\n",
       "    </tr>\n",
       "    <tr>\n",
       "      <th>145</th>\n",
       "      <td>146</td>\n",
       "      <td>6.7</td>\n",
       "      <td>3.0</td>\n",
       "      <td>5.2</td>\n",
       "      <td>2.3</td>\n",
       "      <td>Iris-virginica</td>\n",
       "    </tr>\n",
       "    <tr>\n",
       "      <th>146</th>\n",
       "      <td>147</td>\n",
       "      <td>6.3</td>\n",
       "      <td>2.5</td>\n",
       "      <td>5.0</td>\n",
       "      <td>1.9</td>\n",
       "      <td>Iris-virginica</td>\n",
       "    </tr>\n",
       "    <tr>\n",
       "      <th>147</th>\n",
       "      <td>148</td>\n",
       "      <td>6.5</td>\n",
       "      <td>3.0</td>\n",
       "      <td>5.2</td>\n",
       "      <td>2.0</td>\n",
       "      <td>Iris-virginica</td>\n",
       "    </tr>\n",
       "    <tr>\n",
       "      <th>148</th>\n",
       "      <td>149</td>\n",
       "      <td>6.2</td>\n",
       "      <td>3.4</td>\n",
       "      <td>5.4</td>\n",
       "      <td>2.3</td>\n",
       "      <td>Iris-virginica</td>\n",
       "    </tr>\n",
       "    <tr>\n",
       "      <th>149</th>\n",
       "      <td>150</td>\n",
       "      <td>5.9</td>\n",
       "      <td>3.0</td>\n",
       "      <td>5.1</td>\n",
       "      <td>1.8</td>\n",
       "      <td>Iris-virginica</td>\n",
       "    </tr>\n",
       "  </tbody>\n",
       "</table>\n",
       "<p>150 rows × 6 columns</p>\n",
       "</div>"
      ],
      "text/plain": [
       "      Id  SepalLengthCm  SepalWidthCm  PetalLengthCm  PetalWidthCm  \\\n",
       "0      1            5.1           3.5            1.4           0.2   \n",
       "1      2            4.9           3.0            1.4           0.2   \n",
       "2      3            4.7           3.2            1.3           0.2   \n",
       "3      4            4.6           3.1            1.5           0.2   \n",
       "4      5            5.0           3.6            1.4           0.2   \n",
       "..   ...            ...           ...            ...           ...   \n",
       "145  146            6.7           3.0            5.2           2.3   \n",
       "146  147            6.3           2.5            5.0           1.9   \n",
       "147  148            6.5           3.0            5.2           2.0   \n",
       "148  149            6.2           3.4            5.4           2.3   \n",
       "149  150            5.9           3.0            5.1           1.8   \n",
       "\n",
       "            Species  \n",
       "0       Iris-setosa  \n",
       "1       Iris-setosa  \n",
       "2       Iris-setosa  \n",
       "3       Iris-setosa  \n",
       "4       Iris-setosa  \n",
       "..              ...  \n",
       "145  Iris-virginica  \n",
       "146  Iris-virginica  \n",
       "147  Iris-virginica  \n",
       "148  Iris-virginica  \n",
       "149  Iris-virginica  \n",
       "\n",
       "[150 rows x 6 columns]"
      ]
     },
     "execution_count": 2,
     "metadata": {},
     "output_type": "execute_result"
    }
   ],
   "source": [
    "df = pd.read_csv(\"../input/iris/Iris.csv\")\n",
    "df"
   ]
  },
  {
   "cell_type": "markdown",
   "id": "21863acd",
   "metadata": {
    "papermill": {
     "duration": 0.016102,
     "end_time": "2022-06-13T16:09:41.005248",
     "exception": false,
     "start_time": "2022-06-13T16:09:40.989146",
     "status": "completed"
    },
    "tags": []
   },
   "source": [
    "### Shape of DataFrame"
   ]
  },
  {
   "cell_type": "code",
   "execution_count": 3,
   "id": "0c06468c",
   "metadata": {
    "execution": {
     "iopub.execute_input": "2022-06-13T16:09:41.038908Z",
     "iopub.status.busy": "2022-06-13T16:09:41.038319Z",
     "iopub.status.idle": "2022-06-13T16:09:41.044544Z",
     "shell.execute_reply": "2022-06-13T16:09:41.043503Z"
    },
    "papermill": {
     "duration": 0.025255,
     "end_time": "2022-06-13T16:09:41.046549",
     "exception": false,
     "start_time": "2022-06-13T16:09:41.021294",
     "status": "completed"
    },
    "scrolled": true,
    "tags": []
   },
   "outputs": [
    {
     "data": {
      "text/plain": [
       "(150, 6)"
      ]
     },
     "execution_count": 3,
     "metadata": {},
     "output_type": "execute_result"
    }
   ],
   "source": [
    "df.shape"
   ]
  },
  {
   "cell_type": "markdown",
   "id": "fbe7a066",
   "metadata": {
    "papermill": {
     "duration": 0.015679,
     "end_time": "2022-06-13T16:09:41.078370",
     "exception": false,
     "start_time": "2022-06-13T16:09:41.062691",
     "status": "completed"
    },
    "tags": []
   },
   "source": [
    "### Drop Unnecessray feature"
   ]
  },
  {
   "cell_type": "code",
   "execution_count": 4,
   "id": "231b3bf6",
   "metadata": {
    "execution": {
     "iopub.execute_input": "2022-06-13T16:09:41.112164Z",
     "iopub.status.busy": "2022-06-13T16:09:41.111671Z",
     "iopub.status.idle": "2022-06-13T16:09:41.123289Z",
     "shell.execute_reply": "2022-06-13T16:09:41.122558Z"
    },
    "papermill": {
     "duration": 0.030769,
     "end_time": "2022-06-13T16:09:41.125171",
     "exception": false,
     "start_time": "2022-06-13T16:09:41.094402",
     "status": "completed"
    },
    "tags": []
   },
   "outputs": [],
   "source": [
    "df.drop(\"Id\",axis=1,inplace=True)"
   ]
  },
  {
   "cell_type": "markdown",
   "id": "86d52820",
   "metadata": {
    "papermill": {
     "duration": 0.015706,
     "end_time": "2022-06-13T16:09:41.157113",
     "exception": false,
     "start_time": "2022-06-13T16:09:41.141407",
     "status": "completed"
    },
    "tags": []
   },
   "source": [
    "### Get Statistical Info of all features "
   ]
  },
  {
   "cell_type": "code",
   "execution_count": 5,
   "id": "9758b310",
   "metadata": {
    "execution": {
     "iopub.execute_input": "2022-06-13T16:09:41.191673Z",
     "iopub.status.busy": "2022-06-13T16:09:41.191059Z",
     "iopub.status.idle": "2022-06-13T16:09:41.233219Z",
     "shell.execute_reply": "2022-06-13T16:09:41.230302Z"
    },
    "papermill": {
     "duration": 0.062983,
     "end_time": "2022-06-13T16:09:41.236276",
     "exception": false,
     "start_time": "2022-06-13T16:09:41.173293",
     "status": "completed"
    },
    "tags": []
   },
   "outputs": [
    {
     "data": {
      "text/html": [
       "<div>\n",
       "<style scoped>\n",
       "    .dataframe tbody tr th:only-of-type {\n",
       "        vertical-align: middle;\n",
       "    }\n",
       "\n",
       "    .dataframe tbody tr th {\n",
       "        vertical-align: top;\n",
       "    }\n",
       "\n",
       "    .dataframe thead th {\n",
       "        text-align: right;\n",
       "    }\n",
       "</style>\n",
       "<table border=\"1\" class=\"dataframe\">\n",
       "  <thead>\n",
       "    <tr style=\"text-align: right;\">\n",
       "      <th></th>\n",
       "      <th>SepalLengthCm</th>\n",
       "      <th>SepalWidthCm</th>\n",
       "      <th>PetalLengthCm</th>\n",
       "      <th>PetalWidthCm</th>\n",
       "    </tr>\n",
       "  </thead>\n",
       "  <tbody>\n",
       "    <tr>\n",
       "      <th>count</th>\n",
       "      <td>150.000000</td>\n",
       "      <td>150.000000</td>\n",
       "      <td>150.000000</td>\n",
       "      <td>150.000000</td>\n",
       "    </tr>\n",
       "    <tr>\n",
       "      <th>mean</th>\n",
       "      <td>5.843333</td>\n",
       "      <td>3.054000</td>\n",
       "      <td>3.758667</td>\n",
       "      <td>1.198667</td>\n",
       "    </tr>\n",
       "    <tr>\n",
       "      <th>std</th>\n",
       "      <td>0.828066</td>\n",
       "      <td>0.433594</td>\n",
       "      <td>1.764420</td>\n",
       "      <td>0.763161</td>\n",
       "    </tr>\n",
       "    <tr>\n",
       "      <th>min</th>\n",
       "      <td>4.300000</td>\n",
       "      <td>2.000000</td>\n",
       "      <td>1.000000</td>\n",
       "      <td>0.100000</td>\n",
       "    </tr>\n",
       "    <tr>\n",
       "      <th>25%</th>\n",
       "      <td>5.100000</td>\n",
       "      <td>2.800000</td>\n",
       "      <td>1.600000</td>\n",
       "      <td>0.300000</td>\n",
       "    </tr>\n",
       "    <tr>\n",
       "      <th>50%</th>\n",
       "      <td>5.800000</td>\n",
       "      <td>3.000000</td>\n",
       "      <td>4.350000</td>\n",
       "      <td>1.300000</td>\n",
       "    </tr>\n",
       "    <tr>\n",
       "      <th>75%</th>\n",
       "      <td>6.400000</td>\n",
       "      <td>3.300000</td>\n",
       "      <td>5.100000</td>\n",
       "      <td>1.800000</td>\n",
       "    </tr>\n",
       "    <tr>\n",
       "      <th>max</th>\n",
       "      <td>7.900000</td>\n",
       "      <td>4.400000</td>\n",
       "      <td>6.900000</td>\n",
       "      <td>2.500000</td>\n",
       "    </tr>\n",
       "  </tbody>\n",
       "</table>\n",
       "</div>"
      ],
      "text/plain": [
       "       SepalLengthCm  SepalWidthCm  PetalLengthCm  PetalWidthCm\n",
       "count     150.000000    150.000000     150.000000    150.000000\n",
       "mean        5.843333      3.054000       3.758667      1.198667\n",
       "std         0.828066      0.433594       1.764420      0.763161\n",
       "min         4.300000      2.000000       1.000000      0.100000\n",
       "25%         5.100000      2.800000       1.600000      0.300000\n",
       "50%         5.800000      3.000000       4.350000      1.300000\n",
       "75%         6.400000      3.300000       5.100000      1.800000\n",
       "max         7.900000      4.400000       6.900000      2.500000"
      ]
     },
     "execution_count": 5,
     "metadata": {},
     "output_type": "execute_result"
    }
   ],
   "source": [
    "df.describe()"
   ]
  },
  {
   "cell_type": "markdown",
   "id": "0db4901d",
   "metadata": {
    "papermill": {
     "duration": 0.019062,
     "end_time": "2022-06-13T16:09:41.282600",
     "exception": false,
     "start_time": "2022-06-13T16:09:41.263538",
     "status": "completed"
    },
    "tags": []
   },
   "source": [
    "### See Total No of Count of each class of Species"
   ]
  },
  {
   "cell_type": "code",
   "execution_count": 6,
   "id": "8f77d879",
   "metadata": {
    "execution": {
     "iopub.execute_input": "2022-06-13T16:09:41.322698Z",
     "iopub.status.busy": "2022-06-13T16:09:41.322324Z",
     "iopub.status.idle": "2022-06-13T16:09:41.330056Z",
     "shell.execute_reply": "2022-06-13T16:09:41.329059Z"
    },
    "papermill": {
     "duration": 0.027406,
     "end_time": "2022-06-13T16:09:41.332080",
     "exception": false,
     "start_time": "2022-06-13T16:09:41.304674",
     "status": "completed"
    },
    "tags": []
   },
   "outputs": [
    {
     "data": {
      "text/plain": [
       "Iris-setosa        50\n",
       "Iris-versicolor    50\n",
       "Iris-virginica     50\n",
       "Name: Species, dtype: int64"
      ]
     },
     "execution_count": 6,
     "metadata": {},
     "output_type": "execute_result"
    }
   ],
   "source": [
    "df['Species'].value_counts()"
   ]
  },
  {
   "cell_type": "markdown",
   "id": "fb30e8dc",
   "metadata": {
    "papermill": {
     "duration": 0.016678,
     "end_time": "2022-06-13T16:09:41.364947",
     "exception": false,
     "start_time": "2022-06-13T16:09:41.348269",
     "status": "completed"
    },
    "tags": []
   },
   "source": [
    "### Count Plot : To check data is balance or not?"
   ]
  },
  {
   "cell_type": "code",
   "execution_count": 7,
   "id": "058e0662",
   "metadata": {
    "execution": {
     "iopub.execute_input": "2022-06-13T16:09:41.401215Z",
     "iopub.status.busy": "2022-06-13T16:09:41.400789Z",
     "iopub.status.idle": "2022-06-13T16:09:41.564371Z",
     "shell.execute_reply": "2022-06-13T16:09:41.563333Z"
    },
    "papermill": {
     "duration": 0.184966,
     "end_time": "2022-06-13T16:09:41.567343",
     "exception": false,
     "start_time": "2022-06-13T16:09:41.382377",
     "status": "completed"
    },
    "tags": []
   },
   "outputs": [
    {
     "data": {
      "image/png": "[encoded data removed]",
      "text/plain": [
       "<Figure size 504x288 with 1 Axes>"
      ]
     },
     "metadata": {
      "needs_background": "light"
     },
     "output_type": "display_data"
    }
   ],
   "source": [
    "#count plot \n",
    "plt.figure(figsize=(7,4))\n",
    "sns.countplot(\"Species\",data=df)\n",
    "plt.show()"
   ]
  },
  {
   "cell_type": "markdown",
   "id": "95ce14e6",
   "metadata": {
    "papermill": {
     "duration": 0.016277,
     "end_time": "2022-06-13T16:09:41.600785",
     "exception": false,
     "start_time": "2022-06-13T16:09:41.584508",
     "status": "completed"
    },
    "tags": []
   },
   "source": [
    "#### Observation\n",
    "* As seen dataset is completely balance means equal no all category of Iris-setosa,Iris-versicolor and Iris-virginica"
   ]
  },
  {
   "cell_type": "markdown",
   "id": "eaaa6d42",
   "metadata": {
    "papermill": {
     "duration": 0.016514,
     "end_time": "2022-06-13T16:09:41.633938",
     "exception": false,
     "start_time": "2022-06-13T16:09:41.617424",
     "status": "completed"
    },
    "tags": []
   },
   "source": [
    "### Pair Plot"
   ]
  },
  {
   "cell_type": "code",
   "execution_count": 8,
   "id": "ae29045b",
   "metadata": {
    "execution": {
     "iopub.execute_input": "2022-06-13T16:09:41.669846Z",
     "iopub.status.busy": "2022-06-13T16:09:41.668954Z",
     "iopub.status.idle": "2022-06-13T16:09:46.918571Z",
     "shell.execute_reply": "2022-06-13T16:09:46.917779Z"
    },
    "papermill": {
     "duration": 5.271327,
     "end_time": "2022-06-13T16:09:46.922094",
     "exception": false,
     "start_time": "2022-06-13T16:09:41.650767",
     "status": "completed"
    },
    "tags": []
   },
   "outputs": [
    {
     "data": {
      "text/plain": [
       "<seaborn.axisgrid.PairGrid at 0x7f44be2f9050>"
      ]
     },
     "execution_count": 8,
     "metadata": {},
     "output_type": "execute_result"
    },
    {
     "data": {
      "image/png": "[encoded data removed]",
      "text/plain": [
       "<Figure size 823.25x720 with 20 Axes>"
      ]
     },
     "metadata": {
      "needs_background": "light"
     },
     "output_type": "display_data"
    }
   ],
   "source": [
    "sns.pairplot(df,hue=\"Species\",data=df)"
   ]
  },
  {
   "cell_type": "markdown",
   "id": "0e458068",
   "metadata": {
    "papermill": {
     "duration": 0.018868,
     "end_time": "2022-06-13T16:09:46.960442",
     "exception": false,
     "start_time": "2022-06-13T16:09:46.941574",
     "status": "completed"
    },
    "tags": []
   },
   "source": [
    "### Scatter Plot :  Sepal Length vs Sepal Width"
   ]
  },
  {
   "cell_type": "code",
   "execution_count": 9,
   "id": "901ff01d",
   "metadata": {
    "execution": {
     "iopub.execute_input": "2022-06-13T16:09:47.000882Z",
     "iopub.status.busy": "2022-06-13T16:09:47.000274Z",
     "iopub.status.idle": "2022-06-13T16:09:47.337742Z",
     "shell.execute_reply": "2022-06-13T16:09:47.336713Z"
    },
    "papermill": {
     "duration": 0.360295,
     "end_time": "2022-06-13T16:09:47.339918",
     "exception": false,
     "start_time": "2022-06-13T16:09:46.979623",
     "status": "completed"
    },
    "tags": []
   },
   "outputs": [
    {
     "data": {
      "image/png": "[encoded data removed]",
      "text/plain": [
       "<Figure size 576x432 with 1 Axes>"
      ]
     },
     "metadata": {
      "needs_background": "light"
     },
     "output_type": "display_data"
    }
   ],
   "source": [
    "plt.figure(figsize=(8,6))\n",
    "sns.scatterplot(x=\"SepalLengthCm\",y=\"SepalWidthCm\",hue=\"Species\",data=df)\n",
    "plt.title(\"Sepal Length vs Sepal Width\",color=\"red\",size=20)\n",
    "plt.xlabel(\"Sepal length CM\",size=14)\n",
    "plt.ylabel(\"Sepal Width CM\",size=14)\n",
    "plt.show()"
   ]
  },
  {
   "cell_type": "markdown",
   "id": "915265af",
   "metadata": {
    "papermill": {
     "duration": 0.021215,
     "end_time": "2022-06-13T16:09:47.381688",
     "exception": false,
     "start_time": "2022-06-13T16:09:47.360473",
     "status": "completed"
    },
    "tags": []
   },
   "source": [
    "#### Observation\n",
    "As seen here correlation between sepal length and sepal width not so good"
   ]
  },
  {
   "cell_type": "markdown",
   "id": "784b7e04",
   "metadata": {
    "papermill": {
     "duration": 0.020341,
     "end_time": "2022-06-13T16:09:47.422446",
     "exception": false,
     "start_time": "2022-06-13T16:09:47.402105",
     "status": "completed"
    },
    "tags": []
   },
   "source": [
    "### Scatter Plot :  Sepal Length vs Sepal Width"
   ]
  },
  {
   "cell_type": "code",
   "execution_count": 10,
   "id": "27ad5b1f",
   "metadata": {
    "execution": {
     "iopub.execute_input": "2022-06-13T16:09:47.464265Z",
     "iopub.status.busy": "2022-06-13T16:09:47.463849Z",
     "iopub.status.idle": "2022-06-13T16:09:47.795582Z",
     "shell.execute_reply": "2022-06-13T16:09:47.794508Z"
    },
    "papermill": {
     "duration": 0.355696,
     "end_time": "2022-06-13T16:09:47.798018",
     "exception": false,
     "start_time": "2022-06-13T16:09:47.442322",
     "status": "completed"
    },
    "tags": []
   },
   "outputs": [
    {
     "data": {
      "image/png": "[encoded data removed]",
      "text/plain": [
       "<Figure size 576x432 with 1 Axes>"
      ]
     },
     "metadata": {
      "needs_background": "light"
     },
     "output_type": "display_data"
    }
   ],
   "source": [
    "plt.figure(figsize=(8,6))\n",
    "sns.scatterplot(x=\"PetalLengthCm\",y=\"PetalWidthCm\",hue=\"Species\",data=df)\n",
    "plt.title(\"Petal Length vs Petal Width\",color=\"red\",size=20)\n",
    "plt.xlabel(\"Pepal length CM\",size=14)\n",
    "plt.ylabel(\"Pepal Width CM\",size=14)\n",
    "plt.show()"
   ]
  },
  {
   "cell_type": "markdown",
   "id": "8f5ae31f",
   "metadata": {
    "papermill": {
     "duration": 0.019906,
     "end_time": "2022-06-13T16:09:47.838508",
     "exception": false,
     "start_time": "2022-06-13T16:09:47.818602",
     "status": "completed"
    },
    "tags": []
   },
   "source": [
    "#### Observation\n",
    "As seen here correlation between petal length and petal width is very good\n",
    "so we can say that petal length and petal width is very imporatant to predict ouput as compared to sepal length and sepal width"
   ]
  },
  {
   "cell_type": "markdown",
   "id": "6b8f82e6",
   "metadata": {
    "papermill": {
     "duration": 0.020109,
     "end_time": "2022-06-13T16:09:47.878709",
     "exception": false,
     "start_time": "2022-06-13T16:09:47.858600",
     "status": "completed"
    },
    "tags": []
   },
   "source": [
    "### BOX Plot\n",
    "To know data ditribution of all 3 class of Species for all different features (sepal and petal width and length)"
   ]
  },
  {
   "cell_type": "code",
   "execution_count": 11,
   "id": "4885c5d9",
   "metadata": {
    "execution": {
     "iopub.execute_input": "2022-06-13T16:09:47.922279Z",
     "iopub.status.busy": "2022-06-13T16:09:47.921661Z",
     "iopub.status.idle": "2022-06-13T16:09:48.588407Z",
     "shell.execute_reply": "2022-06-13T16:09:48.587714Z"
    },
    "papermill": {
     "duration": 0.691315,
     "end_time": "2022-06-13T16:09:48.590494",
     "exception": false,
     "start_time": "2022-06-13T16:09:47.899179",
     "status": "completed"
    },
    "tags": []
   },
   "outputs": [
    {
     "data": {
      "text/plain": [
       "<AxesSubplot:xlabel='Species', ylabel='PetalWidthCm'>"
      ]
     },
     "execution_count": 11,
     "metadata": {},
     "output_type": "execute_result"
    },
    {
     "data": {
      "image/png": "[encoded data removed]",
      "text/plain": [
       "<Figure size 1080x720 with 4 Axes>"
      ]
     },
     "metadata": {
      "needs_background": "light"
     },
     "output_type": "display_data"
    }
   ],
   "source": [
    "plt.figure(figsize=(15,10))\n",
    "plt.subplot(2,2,1)\n",
    "sns.boxplot(x=\"Species\",y=\"SepalLengthCm\",data=df)\n",
    "plt.subplot(2,2,2)\n",
    "sns.boxplot(x=\"Species\",y=\"SepalWidthCm\",data=df)\n",
    "plt.subplot(2,2,3)\n",
    "sns.boxplot(x=\"Species\",y=\"PetalLengthCm\",data=df)\n",
    "plt.subplot(2,2,4)\n",
    "sns.boxplot(x=\"Species\",y=\"PetalWidthCm\",data=df)"
   ]
  },
  {
   "cell_type": "markdown",
   "id": "8a5ff1f0",
   "metadata": {
    "papermill": {
     "duration": 0.021568,
     "end_time": "2022-06-13T16:09:48.633905",
     "exception": false,
     "start_time": "2022-06-13T16:09:48.612337",
     "status": "completed"
    },
    "tags": []
   },
   "source": [
    "#### Observation\n",
    "* For Iris-versicolor has min petal width is 1.5cm to max 2.5cm and min petal length 4.8cm to max 7cm which is very high compared to other\n",
    "* Also and for setosa has very small range of petal width and petal length both as compared to other"
   ]
  },
  {
   "cell_type": "markdown",
   "id": "be9246d6",
   "metadata": {
    "papermill": {
     "duration": 0.020918,
     "end_time": "2022-06-13T16:09:48.676312",
     "exception": false,
     "start_time": "2022-06-13T16:09:48.655394",
     "status": "completed"
    },
    "tags": []
   },
   "source": [
    "### Heat Map : To check Correation of all features"
   ]
  },
  {
   "cell_type": "code",
   "execution_count": 12,
   "id": "b0095f08",
   "metadata": {
    "execution": {
     "iopub.execute_input": "2022-06-13T16:09:48.720083Z",
     "iopub.status.busy": "2022-06-13T16:09:48.719435Z",
     "iopub.status.idle": "2022-06-13T16:09:49.044866Z",
     "shell.execute_reply": "2022-06-13T16:09:49.043796Z"
    },
    "papermill": {
     "duration": 0.350026,
     "end_time": "2022-06-13T16:09:49.047268",
     "exception": false,
     "start_time": "2022-06-13T16:09:48.697242",
     "status": "completed"
    },
    "tags": []
   },
   "outputs": [
    {
     "data": {
      "image/png": "[encoded data removed]",
      "text/plain": [
       "<Figure size 576x360 with 2 Axes>"
      ]
     },
     "metadata": {
      "needs_background": "light"
     },
     "output_type": "display_data"
    }
   ],
   "source": [
    "plt.figure(figsize=(8,5))\n",
    "sns.heatmap(df.corr(),annot=True)\n",
    "plt.show()"
   ]
  },
  {
   "cell_type": "markdown",
   "id": "6e8c7406",
   "metadata": {
    "papermill": {
     "duration": 0.021236,
     "end_time": "2022-06-13T16:09:49.090084",
     "exception": false,
     "start_time": "2022-06-13T16:09:49.068848",
     "status": "completed"
    },
    "tags": []
   },
   "source": [
    "#### Observation:\n",
    "* see here as seen above Petal length and Petal width has very strong correlation which is <b>0.96<b> \n",
    "* sepal length and sepal width has very poor correlation which is <b>-0.11<b>"
   ]
  },
  {
   "cell_type": "markdown",
   "id": "efeb99fe",
   "metadata": {
    "papermill": {
     "duration": 0.021694,
     "end_time": "2022-06-13T16:09:49.133151",
     "exception": false,
     "start_time": "2022-06-13T16:09:49.111457",
     "status": "completed"
    },
    "tags": []
   },
   "source": [
    "### Seperation of Input and Output features (X and Y)"
   ]
  },
  {
   "cell_type": "code",
   "execution_count": 13,
   "id": "3341e794",
   "metadata": {
    "execution": {
     "iopub.execute_input": "2022-06-13T16:09:49.178153Z",
     "iopub.status.busy": "2022-06-13T16:09:49.177224Z",
     "iopub.status.idle": "2022-06-13T16:09:49.184208Z",
     "shell.execute_reply": "2022-06-13T16:09:49.182547Z"
    },
    "papermill": {
     "duration": 0.034049,
     "end_time": "2022-06-13T16:09:49.188580",
     "exception": false,
     "start_time": "2022-06-13T16:09:49.154531",
     "status": "completed"
    },
    "tags": []
   },
   "outputs": [],
   "source": [
    "X =df.drop(\"Species\",axis=1)\n",
    "Y = df['Species']"
   ]
  },
  {
   "cell_type": "markdown",
   "id": "76973344",
   "metadata": {
    "papermill": {
     "duration": 0.021383,
     "end_time": "2022-06-13T16:09:49.238758",
     "exception": false,
     "start_time": "2022-06-13T16:09:49.217375",
     "status": "completed"
    },
    "tags": []
   },
   "source": [
    "### Train-Test split with ratio of (70/30)"
   ]
  },
  {
   "cell_type": "code",
   "execution_count": 14,
   "id": "e9353bb9",
   "metadata": {
    "execution": {
     "iopub.execute_input": "2022-06-13T16:09:49.284933Z",
     "iopub.status.busy": "2022-06-13T16:09:49.284350Z",
     "iopub.status.idle": "2022-06-13T16:09:49.463543Z",
     "shell.execute_reply": "2022-06-13T16:09:49.462672Z"
    },
    "papermill": {
     "duration": 0.205559,
     "end_time": "2022-06-13T16:09:49.466011",
     "exception": false,
     "start_time": "2022-06-13T16:09:49.260452",
     "status": "completed"
    },
    "tags": []
   },
   "outputs": [],
   "source": [
    "#Train test split\n",
    "from sklearn.model_selection import train_test_split\n",
    "X_train,X_test,Y_train,Y_test = train_test_split(X,Y,test_size=0.3,random_state=1)"
   ]
  },
  {
   "cell_type": "markdown",
   "id": "3d2f011d",
   "metadata": {
    "papermill": {
     "duration": 0.021146,
     "end_time": "2022-06-13T16:09:49.508698",
     "exception": false,
     "start_time": "2022-06-13T16:09:49.487552",
     "status": "completed"
    },
    "tags": []
   },
   "source": [
    "## Model Training\n",
    "* Now we will use differents classification algorithmns to solve classification problem\n",
    "* logistic regression, \n",
    "* support vector Machine \n",
    "* Decision Tree, \n",
    "* KNN, \n",
    "* Naive bayes"
   ]
  },
  {
   "cell_type": "markdown",
   "id": "3b55d67f",
   "metadata": {
    "papermill": {
     "duration": 0.020704,
     "end_time": "2022-06-13T16:09:49.551285",
     "exception": false,
     "start_time": "2022-06-13T16:09:49.530581",
     "status": "completed"
    },
    "tags": []
   },
   "source": [
    "#### Import all the required library"
   ]
  },
  {
   "cell_type": "code",
   "execution_count": 15,
   "id": "9099eedd",
   "metadata": {
    "execution": {
     "iopub.execute_input": "2022-06-13T16:09:49.595031Z",
     "iopub.status.busy": "2022-06-13T16:09:49.594630Z",
     "iopub.status.idle": "2022-06-13T16:09:49.734098Z",
     "shell.execute_reply": "2022-06-13T16:09:49.733245Z"
    },
    "papermill": {
     "duration": 0.164068,
     "end_time": "2022-06-13T16:09:49.736531",
     "exception": false,
     "start_time": "2022-06-13T16:09:49.572463",
     "status": "completed"
    },
    "tags": []
   },
   "outputs": [],
   "source": [
    "#logistic regression\n",
    "from sklearn.linear_model import LogisticRegression \n",
    "\n",
    "#support vector Machine\n",
    "from sklearn import svm \n",
    "\n",
    "#Decision Tree\n",
    "from sklearn.tree import DecisionTreeClassifier\n",
    "\n",
    "#KNN\n",
    "from sklearn.neighbors import KNeighborsClassifier \n",
    "\n",
    "#Naive bayes\n",
    "from sklearn.naive_bayes import GaussianNB "
   ]
  },
  {
   "cell_type": "code",
   "execution_count": 16,
   "id": "bf0a1b16",
   "metadata": {
    "execution": {
     "iopub.execute_input": "2022-06-13T16:09:49.781220Z",
     "iopub.status.busy": "2022-06-13T16:09:49.780858Z",
     "iopub.status.idle": "2022-06-13T16:09:49.785300Z",
     "shell.execute_reply": "2022-06-13T16:09:49.784370Z"
    },
    "papermill": {
     "duration": 0.028826,
     "end_time": "2022-06-13T16:09:49.787223",
     "exception": false,
     "start_time": "2022-06-13T16:09:49.758397",
     "status": "completed"
    },
    "tags": []
   },
   "outputs": [],
   "source": [
    "#accuracy measure\n",
    "from sklearn import metrics\n",
    "\n",
    "#for confusion matrix\n",
    "from sklearn.metrics import confusion_matrix \n",
    "from sklearn.metrics import classification_report"
   ]
  },
  {
   "cell_type": "code",
   "execution_count": 17,
   "id": "c605e8f0",
   "metadata": {
    "execution": {
     "iopub.execute_input": "2022-06-13T16:09:49.831218Z",
     "iopub.status.busy": "2022-06-13T16:09:49.830848Z",
     "iopub.status.idle": "2022-06-13T16:09:49.834611Z",
     "shell.execute_reply": "2022-06-13T16:09:49.833976Z"
    },
    "papermill": {
     "duration": 0.027602,
     "end_time": "2022-06-13T16:09:49.836421",
     "exception": false,
     "start_time": "2022-06-13T16:09:49.808819",
     "status": "completed"
    },
    "tags": []
   },
   "outputs": [],
   "source": [
    "models = [\"Logistic Regression\",\"linear-SVM\",'KNN',\"Decision Tree\",\"Gaussian Naive Bayes\"]\n",
    "scores = []"
   ]
  },
  {
   "cell_type": "markdown",
   "id": "3b3a2896",
   "metadata": {
    "papermill": {
     "duration": 0.021251,
     "end_time": "2022-06-13T16:09:49.879099",
     "exception": false,
     "start_time": "2022-06-13T16:09:49.857848",
     "status": "completed"
    },
    "tags": []
   },
   "source": [
    "### Logistic Regression"
   ]
  },
  {
   "cell_type": "code",
   "execution_count": 18,
   "id": "73a32767",
   "metadata": {
    "execution": {
     "iopub.execute_input": "2022-06-13T16:09:49.923767Z",
     "iopub.status.busy": "2022-06-13T16:09:49.923140Z",
     "iopub.status.idle": "2022-06-13T16:09:49.974421Z",
     "shell.execute_reply": "2022-06-13T16:09:49.973313Z"
    },
    "papermill": {
     "duration": 0.076515,
     "end_time": "2022-06-13T16:09:49.976710",
     "exception": false,
     "start_time": "2022-06-13T16:09:49.900195",
     "status": "completed"
    },
    "tags": []
   },
   "outputs": [
    {
     "name": "stdout",
     "output_type": "stream",
     "text": [
      "The accuracy of the Logistic Regression is 0.9777777777777777\n",
      "                 precision    recall  f1-score   support\n",
      "\n",
      "    Iris-setosa       1.00      1.00      1.00        14\n",
      "Iris-versicolor       1.00      0.94      0.97        18\n",
      " Iris-virginica       0.93      1.00      0.96        13\n",
      "\n",
      "       accuracy                           0.98        45\n",
      "      macro avg       0.98      0.98      0.98        45\n",
      "   weighted avg       0.98      0.98      0.98        45\n",
      "\n"
     ]
    }
   ],
   "source": [
    "model = LogisticRegression()\n",
    "model.fit(X_train,Y_train)\n",
    "y_pred_lr = model.predict(X_test)\n",
    "print('The accuracy of the Logistic Regression is',metrics.accuracy_score(Y_test,y_pred_lr))\n",
    "print(classification_report(Y_test,y_pred_lr))\n",
    "scores.append(metrics.accuracy_score(Y_test,y_pred_lr))"
   ]
  },
  {
   "cell_type": "markdown",
   "id": "46a19bf9",
   "metadata": {
    "papermill": {
     "duration": 0.02145,
     "end_time": "2022-06-13T16:09:50.020814",
     "exception": false,
     "start_time": "2022-06-13T16:09:49.999364",
     "status": "completed"
    },
    "tags": []
   },
   "source": [
    "### Linear Support Vector Machine(linear-SVM)"
   ]
  },
  {
   "cell_type": "code",
   "execution_count": 19,
   "id": "7d897aeb",
   "metadata": {
    "execution": {
     "iopub.execute_input": "2022-06-13T16:09:50.065568Z",
     "iopub.status.busy": "2022-06-13T16:09:50.065187Z",
     "iopub.status.idle": "2022-06-13T16:09:50.076975Z",
     "shell.execute_reply": "2022-06-13T16:09:50.075910Z"
    },
    "papermill": {
     "duration": 0.036507,
     "end_time": "2022-06-13T16:09:50.078821",
     "exception": false,
     "start_time": "2022-06-13T16:09:50.042314",
     "status": "completed"
    },
    "tags": []
   },
   "outputs": [
    {
     "name": "stdout",
     "output_type": "stream",
     "text": [
      "The accuracy of the Logistic Regression is 1.0\n"
     ]
    }
   ],
   "source": [
    "model = svm.SVC(kernel='linear')\n",
    "model.fit(X_train,Y_train)\n",
    "y_pred_svm = model.predict(X_test)\n",
    "print('The accuracy of the Logistic Regression is',metrics.accuracy_score(Y_test,y_pred_svm))\n",
    "scores.append(metrics.accuracy_score(Y_test,y_pred_svm))"
   ]
  },
  {
   "cell_type": "markdown",
   "id": "79da553a",
   "metadata": {
    "papermill": {
     "duration": 0.021277,
     "end_time": "2022-06-13T16:09:50.121955",
     "exception": false,
     "start_time": "2022-06-13T16:09:50.100678",
     "status": "completed"
    },
    "tags": []
   },
   "source": [
    "### KNN"
   ]
  },
  {
   "cell_type": "code",
   "execution_count": 20,
   "id": "6c4ed47c",
   "metadata": {
    "execution": {
     "iopub.execute_input": "2022-06-13T16:09:50.166912Z",
     "iopub.status.busy": "2022-06-13T16:09:50.166240Z",
     "iopub.status.idle": "2022-06-13T16:09:50.179978Z",
     "shell.execute_reply": "2022-06-13T16:09:50.178379Z"
    },
    "papermill": {
     "duration": 0.038758,
     "end_time": "2022-06-13T16:09:50.182254",
     "exception": false,
     "start_time": "2022-06-13T16:09:50.143496",
     "status": "completed"
    },
    "tags": []
   },
   "outputs": [
    {
     "name": "stdout",
     "output_type": "stream",
     "text": [
      "The accuracy of the KNN is 0.9777777777777777\n"
     ]
    }
   ],
   "source": [
    "knn = KNeighborsClassifier()\n",
    "knn.fit(X_train,Y_train)\n",
    "y_pred_knn = knn.predict(X_test)\n",
    "print('The accuracy of the KNN is',metrics.accuracy_score(Y_test,y_pred_knn))\n",
    "scores.append(metrics.accuracy_score(Y_test,y_pred_knn))"
   ]
  },
  {
   "cell_type": "markdown",
   "id": "7a06adc8",
   "metadata": {
    "papermill": {
     "duration": 0.021356,
     "end_time": "2022-06-13T16:09:50.225556",
     "exception": false,
     "start_time": "2022-06-13T16:09:50.204200",
     "status": "completed"
    },
    "tags": []
   },
   "source": [
    "#### Check For Different values of K"
   ]
  },
  {
   "cell_type": "code",
   "execution_count": 21,
   "id": "86a3d603",
   "metadata": {
    "execution": {
     "iopub.execute_input": "2022-06-13T16:09:50.271087Z",
     "iopub.status.busy": "2022-06-13T16:09:50.270479Z",
     "iopub.status.idle": "2022-06-13T16:09:50.347072Z",
     "shell.execute_reply": "2022-06-13T16:09:50.345524Z"
    },
    "papermill": {
     "duration": 0.102499,
     "end_time": "2022-06-13T16:09:50.349411",
     "exception": false,
     "start_time": "2022-06-13T16:09:50.246912",
     "status": "completed"
    },
    "scrolled": true,
    "tags": []
   },
   "outputs": [
    {
     "name": "stdout",
     "output_type": "stream",
     "text": [
      "For K=1 accuracy score is 0.9777777777777777 :\n",
      "For K=3 accuracy score is 0.9777777777777777 :\n",
      "For K=5 accuracy score is 0.9777777777777777 :\n",
      "For K=7 accuracy score is 0.9777777777777777 :\n",
      "For K=9 accuracy score is 0.9777777777777777 :\n",
      "For K=11 accuracy score is 0.9777777777777777 :\n",
      "For K=13 accuracy score is 0.9777777777777777 :\n",
      "For K=15 accuracy score is 0.9777777777777777 :\n",
      "For K=17 accuracy score is 0.9777777777777777 :\n",
      "For K=19 accuracy score is 0.9777777777777777 :\n",
      "For K=21 accuracy score is 0.9777777777777777 :\n",
      "For K=23 accuracy score is 0.9777777777777777 :\n"
     ]
    }
   ],
   "source": [
    "l = list(range(1,25,2))\n",
    "for i in l:\n",
    "    knn =KNeighborsClassifier(n_neighbors=i)\n",
    "    knn.fit(X_train,Y_train)\n",
    "    Y_pred = knn.predict(X_test)\n",
    "    accuracy = metrics.accuracy_score(Y_test,Y_pred)\n",
    "    print(f\"For K={i} accuracy score is {accuracy} :\".format(i,accuracy))"
   ]
  },
  {
   "cell_type": "markdown",
   "id": "7d0fa850",
   "metadata": {
    "papermill": {
     "duration": 0.02309,
     "end_time": "2022-06-13T16:09:50.395119",
     "exception": false,
     "start_time": "2022-06-13T16:09:50.372029",
     "status": "completed"
    },
    "tags": []
   },
   "source": [
    "#### Observation\n",
    "* As seen accuracy remains constant for differnets values of K"
   ]
  },
  {
   "cell_type": "markdown",
   "id": "640e9ed4",
   "metadata": {
    "papermill": {
     "duration": 0.021785,
     "end_time": "2022-06-13T16:09:50.438785",
     "exception": false,
     "start_time": "2022-06-13T16:09:50.417000",
     "status": "completed"
    },
    "tags": []
   },
   "source": [
    "### Decision Tree"
   ]
  },
  {
   "cell_type": "code",
   "execution_count": 22,
   "id": "b98f33fb",
   "metadata": {
    "execution": {
     "iopub.execute_input": "2022-06-13T16:09:50.484401Z",
     "iopub.status.busy": "2022-06-13T16:09:50.483845Z",
     "iopub.status.idle": "2022-06-13T16:09:50.497538Z",
     "shell.execute_reply": "2022-06-13T16:09:50.496456Z"
    },
    "papermill": {
     "duration": 0.038897,
     "end_time": "2022-06-13T16:09:50.499559",
     "exception": false,
     "start_time": "2022-06-13T16:09:50.460662",
     "status": "completed"
    },
    "tags": []
   },
   "outputs": [
    {
     "name": "stdout",
     "output_type": "stream",
     "text": [
      "The accuracy of the KNN is 0.9555555555555556\n"
     ]
    }
   ],
   "source": [
    "dt = DecisionTreeClassifier()\n",
    "dt.fit(X_train, Y_train)\n",
    "y_pred_dt = dt.predict(X_test)\n",
    "print('The accuracy of the KNN is',metrics.accuracy_score(Y_test,y_pred_dt))\n",
    "scores.append(metrics.accuracy_score(Y_test,y_pred_dt))"
   ]
  },
  {
   "cell_type": "markdown",
   "id": "910f413e",
   "metadata": {
    "papermill": {
     "duration": 0.022192,
     "end_time": "2022-06-13T16:09:50.544886",
     "exception": false,
     "start_time": "2022-06-13T16:09:50.522694",
     "status": "completed"
    },
    "tags": []
   },
   "source": [
    "### Gaussian Naive Bayes"
   ]
  },
  {
   "cell_type": "code",
   "execution_count": 23,
   "id": "b46607bd",
   "metadata": {
    "execution": {
     "iopub.execute_input": "2022-06-13T16:09:50.592266Z",
     "iopub.status.busy": "2022-06-13T16:09:50.591247Z",
     "iopub.status.idle": "2022-06-13T16:09:50.603968Z",
     "shell.execute_reply": "2022-06-13T16:09:50.602532Z"
    },
    "papermill": {
     "duration": 0.039409,
     "end_time": "2022-06-13T16:09:50.606972",
     "exception": false,
     "start_time": "2022-06-13T16:09:50.567563",
     "status": "completed"
    },
    "tags": []
   },
   "outputs": [
    {
     "name": "stdout",
     "output_type": "stream",
     "text": [
      "The accuracy of the NaiveBayes is 0.9333333333333333\n"
     ]
    }
   ],
   "source": [
    "model=GaussianNB()\n",
    "model.fit(X_train,Y_train)\n",
    "y_pred=model.predict(X_test)\n",
    "print('The accuracy of the NaiveBayes is',metrics.accuracy_score(Y_test,y_pred))\n",
    "scores.append(metrics.accuracy_score(Y_test,y_pred))"
   ]
  },
  {
   "cell_type": "markdown",
   "id": "f4f07888",
   "metadata": {
    "papermill": {
     "duration": 0.021843,
     "end_time": "2022-06-13T16:09:50.651439",
     "exception": false,
     "start_time": "2022-06-13T16:09:50.629596",
     "status": "completed"
    },
    "tags": []
   },
   "source": [
    "### Accuracy Scores by Differents Models"
   ]
  },
  {
   "cell_type": "code",
   "execution_count": 24,
   "id": "7852397c",
   "metadata": {
    "execution": {
     "iopub.execute_input": "2022-06-13T16:09:50.698436Z",
     "iopub.status.busy": "2022-06-13T16:09:50.697779Z",
     "iopub.status.idle": "2022-06-13T16:09:50.708933Z",
     "shell.execute_reply": "2022-06-13T16:09:50.708070Z"
    },
    "papermill": {
     "duration": 0.037264,
     "end_time": "2022-06-13T16:09:50.710882",
     "exception": false,
     "start_time": "2022-06-13T16:09:50.673618",
     "status": "completed"
    },
    "tags": []
   },
   "outputs": [
    {
     "data": {
      "text/html": [
       "<div>\n",
       "<style scoped>\n",
       "    .dataframe tbody tr th:only-of-type {\n",
       "        vertical-align: middle;\n",
       "    }\n",
       "\n",
       "    .dataframe tbody tr th {\n",
       "        vertical-align: top;\n",
       "    }\n",
       "\n",
       "    .dataframe thead th {\n",
       "        text-align: right;\n",
       "    }\n",
       "</style>\n",
       "<table border=\"1\" class=\"dataframe\">\n",
       "  <thead>\n",
       "    <tr style=\"text-align: right;\">\n",
       "      <th></th>\n",
       "      <th>Mdoels</th>\n",
       "      <th>Accuracy_score</th>\n",
       "    </tr>\n",
       "  </thead>\n",
       "  <tbody>\n",
       "    <tr>\n",
       "      <th>0</th>\n",
       "      <td>Logistic Regression</td>\n",
       "      <td>0.977778</td>\n",
       "    </tr>\n",
       "    <tr>\n",
       "      <th>1</th>\n",
       "      <td>linear-SVM</td>\n",
       "      <td>1.000000</td>\n",
       "    </tr>\n",
       "    <tr>\n",
       "      <th>2</th>\n",
       "      <td>KNN</td>\n",
       "      <td>0.977778</td>\n",
       "    </tr>\n",
       "    <tr>\n",
       "      <th>3</th>\n",
       "      <td>Decision Tree</td>\n",
       "      <td>0.955556</td>\n",
       "    </tr>\n",
       "    <tr>\n",
       "      <th>4</th>\n",
       "      <td>Gaussian Naive Bayes</td>\n",
       "      <td>0.933333</td>\n",
       "    </tr>\n",
       "  </tbody>\n",
       "</table>\n",
       "</div>"
      ],
      "text/plain": [
       "                 Mdoels  Accuracy_score\n",
       "0   Logistic Regression        0.977778\n",
       "1            linear-SVM        1.000000\n",
       "2                   KNN        0.977778\n",
       "3         Decision Tree        0.955556\n",
       "4  Gaussian Naive Bayes        0.933333"
      ]
     },
     "execution_count": 24,
     "metadata": {},
     "output_type": "execute_result"
    }
   ],
   "source": [
    "df1 = pd.DataFrame({\"Mdoels\":models,\"Accuracy_score\":scores})\n",
    "df1"
   ]
  },
  {
   "cell_type": "markdown",
   "id": "d894a1ff",
   "metadata": {
    "papermill": {
     "duration": 0.021343,
     "end_time": "2022-06-13T16:09:50.753888",
     "exception": false,
     "start_time": "2022-06-13T16:09:50.732545",
     "status": "completed"
    },
    "tags": []
   },
   "source": [
    "### Accuracy of differents models"
   ]
  },
  {
   "cell_type": "code",
   "execution_count": 25,
   "id": "93c01d08",
   "metadata": {
    "execution": {
     "iopub.execute_input": "2022-06-13T16:09:50.800111Z",
     "iopub.status.busy": "2022-06-13T16:09:50.799411Z",
     "iopub.status.idle": "2022-06-13T16:09:51.020528Z",
     "shell.execute_reply": "2022-06-13T16:09:51.019742Z"
    },
    "papermill": {
     "duration": 0.246561,
     "end_time": "2022-06-13T16:09:51.022523",
     "exception": false,
     "start_time": "2022-06-13T16:09:50.775962",
     "status": "completed"
    },
    "tags": []
   },
   "outputs": [
    {
     "data": {
      "image/png": "[encoded data removed]",
      "text/plain": [
       "<Figure size 504x360 with 1 Axes>"
      ]
     },
     "metadata": {
      "needs_background": "light"
     },
     "output_type": "display_data"
    }
   ],
   "source": [
    "plt.figure(figsize=(7,5))\n",
    "sns.barplot(data=df1,x=\"Mdoels\",y=\"Accuracy_score\")\n",
    "plt.xticks(rotation=30)\n",
    "plt.title(\"Mdoels Accuracy\",size=25,color=\"red\")\n",
    "plt.xlabel(\"Models\",size=15)\n",
    "plt.ylabel(\"Accuracy\",size=15)\n",
    "plt.show()"
   ]
  },
  {
   "cell_type": "markdown",
   "id": "6bfe3147",
   "metadata": {
    "papermill": {
     "duration": 0.022183,
     "end_time": "2022-06-13T16:09:51.067579",
     "exception": false,
     "start_time": "2022-06-13T16:09:51.045396",
     "status": "completed"
    },
    "tags": []
   },
   "source": [
    "### Observation\n",
    "* As seen here Liner SVM and KNN is giving best accuracy score as compared to other lets cross validate out results "
   ]
  },
  {
   "cell_type": "markdown",
   "id": "20f87748",
   "metadata": {
    "papermill": {
     "duration": 0.021902,
     "end_time": "2022-06-13T16:09:51.111518",
     "exception": false,
     "start_time": "2022-06-13T16:09:51.089616",
     "status": "completed"
    },
    "tags": []
   },
   "source": [
    "## Cross Validation\n",
    "We will check accuracy with cross validation techniques\n",
    "we check accuray for different combinations records for traning and testing data set \n",
    "lets we divide entire data set into 5 equal parts so that 1 part for test and rest 4 parts for traning data\n",
    "so everytime machine will takes differents combination of folds for train and test data set and calculate 5 differents values of accuracy then we will calculate mean accuracy to get avg accuracy of model "
   ]
  },
  {
   "cell_type": "code",
   "execution_count": 26,
   "id": "7ccc63c8",
   "metadata": {
    "execution": {
     "iopub.execute_input": "2022-06-13T16:09:51.157590Z",
     "iopub.status.busy": "2022-06-13T16:09:51.156966Z",
     "iopub.status.idle": "2022-06-13T16:09:51.173578Z",
     "shell.execute_reply": "2022-06-13T16:09:51.172574Z"
    },
    "papermill": {
     "duration": 0.041909,
     "end_time": "2022-06-13T16:09:51.175539",
     "exception": false,
     "start_time": "2022-06-13T16:09:51.133630",
     "status": "completed"
    },
    "tags": []
   },
   "outputs": [
    {
     "name": "stdout",
     "output_type": "stream",
     "text": [
      "The accuracy of the Logistic Regression is 1.0\n",
      "                 precision    recall  f1-score   support\n",
      "\n",
      "    Iris-setosa       1.00      1.00      1.00        14\n",
      "Iris-versicolor       1.00      1.00      1.00        18\n",
      " Iris-virginica       1.00      1.00      1.00        13\n",
      "\n",
      "       accuracy                           1.00        45\n",
      "      macro avg       1.00      1.00      1.00        45\n",
      "   weighted avg       1.00      1.00      1.00        45\n",
      "\n"
     ]
    }
   ],
   "source": [
    "model = svm.SVC(kernel='linear')\n",
    "model.fit(X_train,Y_train)\n",
    "y_pred_svm = model.predict(X_test)\n",
    "print('The accuracy of the Logistic Regression is',metrics.accuracy_score(Y_test,y_pred_svm))\n",
    "print(classification_report(Y_test,y_pred_svm))"
   ]
  },
  {
   "cell_type": "markdown",
   "id": "a52979ea",
   "metadata": {
    "papermill": {
     "duration": 0.021828,
     "end_time": "2022-06-13T16:09:51.220573",
     "exception": false,
     "start_time": "2022-06-13T16:09:51.198745",
     "status": "completed"
    },
    "tags": []
   },
   "source": [
    "### Confusuion Matrix of SVM"
   ]
  },
  {
   "cell_type": "code",
   "execution_count": 27,
   "id": "ce7a44c7",
   "metadata": {
    "execution": {
     "iopub.execute_input": "2022-06-13T16:09:51.267273Z",
     "iopub.status.busy": "2022-06-13T16:09:51.266601Z",
     "iopub.status.idle": "2022-06-13T16:09:51.275634Z",
     "shell.execute_reply": "2022-06-13T16:09:51.274373Z"
    },
    "papermill": {
     "duration": 0.035562,
     "end_time": "2022-06-13T16:09:51.278450",
     "exception": false,
     "start_time": "2022-06-13T16:09:51.242888",
     "status": "completed"
    },
    "tags": []
   },
   "outputs": [
    {
     "name": "stdout",
     "output_type": "stream",
     "text": [
      "[[14  0  0]\n",
      " [ 0 18  0]\n",
      " [ 0  0 13]]\n"
     ]
    }
   ],
   "source": [
    "print(confusion_matrix(Y_test,y_pred_svm))"
   ]
  },
  {
   "cell_type": "markdown",
   "id": "489cae0f",
   "metadata": {
    "papermill": {
     "duration": 0.022428,
     "end_time": "2022-06-13T16:09:51.325366",
     "exception": false,
     "start_time": "2022-06-13T16:09:51.302938",
     "status": "completed"
    },
    "tags": []
   },
   "source": [
    "#### Import Libray for cross validation"
   ]
  },
  {
   "cell_type": "code",
   "execution_count": 28,
   "id": "f43ce299",
   "metadata": {
    "execution": {
     "iopub.execute_input": "2022-06-13T16:09:51.373230Z",
     "iopub.status.busy": "2022-06-13T16:09:51.372202Z",
     "iopub.status.idle": "2022-06-13T16:09:51.376534Z",
     "shell.execute_reply": "2022-06-13T16:09:51.375841Z"
    },
    "papermill": {
     "duration": 0.029627,
     "end_time": "2022-06-13T16:09:51.378371",
     "exception": false,
     "start_time": "2022-06-13T16:09:51.348744",
     "status": "completed"
    },
    "tags": []
   },
   "outputs": [],
   "source": [
    "from sklearn.model_selection import KFold\n",
    "from sklearn.model_selection import cross_val_score"
   ]
  },
  {
   "cell_type": "markdown",
   "id": "07502fa1",
   "metadata": {
    "papermill": {
     "duration": 0.022202,
     "end_time": "2022-06-13T16:09:51.422857",
     "exception": false,
     "start_time": "2022-06-13T16:09:51.400655",
     "status": "completed"
    },
    "tags": []
   },
   "source": [
    "### Lets check cross validation accuracy for SVM and KNN"
   ]
  },
  {
   "cell_type": "markdown",
   "id": "26da6740",
   "metadata": {
    "papermill": {
     "duration": 0.021955,
     "end_time": "2022-06-13T16:09:51.467110",
     "exception": false,
     "start_time": "2022-06-13T16:09:51.445155",
     "status": "completed"
    },
    "tags": []
   },
   "source": [
    "#### cross vald accuracy for SVM "
   ]
  },
  {
   "cell_type": "code",
   "execution_count": 29,
   "id": "35332b08",
   "metadata": {
    "execution": {
     "iopub.execute_input": "2022-06-13T16:09:51.514155Z",
     "iopub.status.busy": "2022-06-13T16:09:51.513479Z",
     "iopub.status.idle": "2022-06-13T16:09:51.548448Z",
     "shell.execute_reply": "2022-06-13T16:09:51.547798Z"
    },
    "papermill": {
     "duration": 0.060606,
     "end_time": "2022-06-13T16:09:51.550338",
     "exception": false,
     "start_time": "2022-06-13T16:09:51.489732",
     "status": "completed"
    },
    "tags": []
   },
   "outputs": [
    {
     "data": {
      "text/plain": [
       "array([0.96666667, 1.        , 0.96666667, 0.96666667, 1.        ])"
      ]
     },
     "execution_count": 29,
     "metadata": {},
     "output_type": "execute_result"
    }
   ],
   "source": [
    "cross_val_accuracy_svm = cross_val_score(model,X,Y, cv = 5, scoring = \"accuracy\")\n",
    "cross_val_accuracy_svm"
   ]
  },
  {
   "cell_type": "code",
   "execution_count": 30,
   "id": "8b86ba1c",
   "metadata": {
    "execution": {
     "iopub.execute_input": "2022-06-13T16:09:51.598179Z",
     "iopub.status.busy": "2022-06-13T16:09:51.597404Z",
     "iopub.status.idle": "2022-06-13T16:09:51.603535Z",
     "shell.execute_reply": "2022-06-13T16:09:51.602551Z"
    },
    "papermill": {
     "duration": 0.032377,
     "end_time": "2022-06-13T16:09:51.605768",
     "exception": false,
     "start_time": "2022-06-13T16:09:51.573391",
     "status": "completed"
    },
    "tags": []
   },
   "outputs": [
    {
     "data": {
      "text/plain": [
       "0.9800000000000001"
      ]
     },
     "execution_count": 30,
     "metadata": {},
     "output_type": "execute_result"
    }
   ],
   "source": [
    "cross_val_accuracy_svm.mean()"
   ]
  },
  {
   "cell_type": "markdown",
   "id": "6e28e5d8",
   "metadata": {
    "papermill": {
     "duration": 0.022652,
     "end_time": "2022-06-13T16:09:51.651216",
     "exception": false,
     "start_time": "2022-06-13T16:09:51.628564",
     "status": "completed"
    },
    "tags": []
   },
   "source": [
    "#### cross vald accuracy for KNN "
   ]
  },
  {
   "cell_type": "code",
   "execution_count": 31,
   "id": "b518b49a",
   "metadata": {
    "execution": {
     "iopub.execute_input": "2022-06-13T16:09:51.700221Z",
     "iopub.status.busy": "2022-06-13T16:09:51.699580Z",
     "iopub.status.idle": "2022-06-13T16:09:51.738445Z",
     "shell.execute_reply": "2022-06-13T16:09:51.737543Z"
    },
    "papermill": {
     "duration": 0.065372,
     "end_time": "2022-06-13T16:09:51.740634",
     "exception": false,
     "start_time": "2022-06-13T16:09:51.675262",
     "status": "completed"
    },
    "tags": []
   },
   "outputs": [],
   "source": [
    "model1 = KNeighborsClassifier()\n",
    "cross_val_accuracy_KNN = cross_val_score(model1,X,Y, cv = 5, scoring = \"accuracy\")"
   ]
  },
  {
   "cell_type": "code",
   "execution_count": 32,
   "id": "c3a5447f",
   "metadata": {
    "execution": {
     "iopub.execute_input": "2022-06-13T16:09:51.790429Z",
     "iopub.status.busy": "2022-06-13T16:09:51.789861Z",
     "iopub.status.idle": "2022-06-13T16:09:51.795469Z",
     "shell.execute_reply": "2022-06-13T16:09:51.794850Z"
    },
    "papermill": {
     "duration": 0.03257,
     "end_time": "2022-06-13T16:09:51.797311",
     "exception": false,
     "start_time": "2022-06-13T16:09:51.764741",
     "status": "completed"
    },
    "tags": []
   },
   "outputs": [
    {
     "data": {
      "text/plain": [
       "0.9733333333333334"
      ]
     },
     "execution_count": 32,
     "metadata": {},
     "output_type": "execute_result"
    }
   ],
   "source": [
    "cross_val_accuracy_KNN.mean()"
   ]
  },
  {
   "cell_type": "markdown",
   "id": "dc470fcc",
   "metadata": {
    "papermill": {
     "duration": 0.022903,
     "end_time": "2022-06-13T16:09:51.843294",
     "exception": false,
     "start_time": "2022-06-13T16:09:51.820391",
     "status": "completed"
    },
    "tags": []
   },
   "source": [
    "### <b>Conclusion<b> :\n",
    "* From Above we can see clearly conclude that Cross Validation accuracy of SVM is slight more than KNN so we will consider SVM for our case as its perform very well\n",
    "* As we have implimented differents machine algorithms to sovle classification problem of iris data set  and we get best accuracy in SVM linear"
   ]
  },
  {
   "cell_type": "markdown",
   "id": "9c8822e0",
   "metadata": {
    "papermill": {
     "duration": 0.022657,
     "end_time": "2022-06-13T16:09:51.888713",
     "exception": false,
     "start_time": "2022-06-13T16:09:51.866056",
     "status": "completed"
    },
    "tags": []
   },
   "source": [
    "## Thanking You !!!!\n",
    "\n",
    "## <b>So please Upvote if you like my notebook<b>\n",
    "### Hope You like"
   ]
  }
 ],
 "metadata": {
  "kernelspec": {
   "display_name": "Python 3",
   "language": "python",
   "name": "python3"
  },
  "language_info": {
   "codemirror_mode": {
    "name": "ipython",
    "version": 3
   },
   "file_extension": ".py",
   "mimetype": "text/x-python",
   "name": "python",
   "nbconvert_exporter": "python",
   "pygments_lexer": "ipython3",
   "version": "3.7.12"
  },
  "papermill": {
   "default_parameters": {},
   "duration": 22.167102,
   "end_time": "2022-06-13T16:09:52.632013",
   "environment_variables": {},
   "exception": null,
   "input_path": "__notebook__.ipynb",
   "output_path": "__notebook__.ipynb",
   "parameters": {},
   "start_time": "2022-06-13T16:09:30.464911",
   "version": "2.3.4"
  }
 },
 "nbformat": 4,
 "nbformat_minor": 5
}
